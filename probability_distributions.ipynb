{
 "cells": [
  {
   "cell_type": "code",
   "execution_count": 19,
   "id": "5d72da88",
   "metadata": {},
   "outputs": [],
   "source": [
    "import pandas as pd\n",
    "import numpy as np\n",
    "import seaborn as sb\n",
    "import matplotlib.pyplot as plt\n",
    "from scipy import stats\n",
    "from scipy.stats import poisson"
   ]
  },
  {
   "cell_type": "markdown",
   "id": "eb23c56b",
   "metadata": {},
   "source": [
    "# Probability Distribution Exercises Alexia Garces"
   ]
  },
  {
   "cell_type": "markdown",
   "id": "de3fec63",
   "metadata": {},
   "source": [
    "### 1.  A bank found that the average number of cars waiting during the noon hour at a drive-up window follows a Poisson distribution with a mean of 2 cars. Make a chart of this distribution and answer these questions concerning the probability of cars waiting at the drive-up window."
   ]
  },
  {
   "cell_type": "code",
   "execution_count": 21,
   "id": "7080528e",
   "metadata": {},
   "outputs": [
    {
     "name": "stderr",
     "output_type": "stream",
     "text": [
      "/opt/homebrew/anaconda3/lib/python3.8/site-packages/seaborn/distributions.py:2557: FutureWarning: `distplot` is a deprecated function and will be removed in a future version. Please adapt your code to use either `displot` (a figure-level function with similar flexibility) or `histplot` (an axes-level function for histograms).\n",
      "  warnings.warn(msg, FutureWarning)\n"
     ]
    },
    {
     "data": {
      "text/plain": [
       "[Text(0.5, 0, 'Poisson'), Text(0, 0.5, 'Frequency')]"
      ]
     },
     "execution_count": 21,
     "metadata": {},
     "output_type": "execute_result"
    },
    {
     "data": {
      "image/png": "[encoded data removed]",
      "text/plain": [
       "<Figure size 432x288 with 1 Axes>"
      ]
     },
     "metadata": {
      "needs_background": "light"
     },
     "output_type": "display_data"
    }
   ],
   "source": [
    "driveup = poisson.rvs(mu=2, size=10000)\n",
    "ax = sb.distplot(driveup,\n",
    "                  kde=True,\n",
    "                  color='green',\n",
    "                  hist_kws={\"linewidth\": 25,'alpha':1})\n",
    "ax.set(xlabel='Poisson', ylabel='Frequency')"
   ]
  },
  {
   "cell_type": "markdown",
   "id": "f887e85b",
   "metadata": {},
   "source": [
    "##### a.  What is the probability that no cars drive up in the noon hour?"
   ]
  },
  {
   "cell_type": "code",
   "execution_count": 9,
   "id": "c6de2bd1",
   "metadata": {},
   "outputs": [
    {
     "data": {
      "text/plain": [
       "0.1353352832366127"
      ]
     },
     "execution_count": 9,
     "metadata": {},
     "output_type": "execute_result"
    }
   ],
   "source": [
    "stats.poisson(2).pmf(0)"
   ]
  },
  {
   "cell_type": "markdown",
   "id": "ffe09a7b",
   "metadata": {},
   "source": [
    "##### b. What is the probability that 3 or more cars come through the drive through?"
   ]
  },
  {
   "cell_type": "code",
   "execution_count": 14,
   "id": "eb2fe645",
   "metadata": {},
   "outputs": [
    {
     "data": {
      "text/plain": [
       "0.32332358381693654"
      ]
     },
     "execution_count": 14,
     "metadata": {},
     "output_type": "execute_result"
    }
   ],
   "source": [
    "stats.poisson(2).sf(2)"
   ]
  },
  {
   "cell_type": "markdown",
   "id": "79bc5292",
   "metadata": {},
   "source": [
    "##### c. How likely is it that the drive through gets at least 1 car?"
   ]
  },
  {
   "cell_type": "code",
   "execution_count": 15,
   "id": "dea169f7",
   "metadata": {},
   "outputs": [
    {
     "data": {
      "text/plain": [
       "0.8646647167633873"
      ]
     },
     "execution_count": 15,
     "metadata": {},
     "output_type": "execute_result"
    }
   ],
   "source": [
    "stats.poisson(2).sf(0)"
   ]
  },
  {
   "cell_type": "markdown",
   "id": "6b370458",
   "metadata": {},
   "source": [
    "### 2. Grades of State University graduates are normally distributed with a mean of 3.0 and a standard deviation of .3. Calculate the following:"
   ]
  },
  {
   "cell_type": "markdown",
   "id": "088654ed",
   "metadata": {},
   "source": [
    "##### a. What grade point average is required to be in the top 5% of the graduating class?"
   ]
  },
  {
   "cell_type": "markdown",
   "id": "9b680de8",
   "metadata": {},
   "source": [
    "##### b.  What GPA constitutes the bottom 15% of the class?"
   ]
  },
  {
   "cell_type": "markdown",
   "id": "4efab967",
   "metadata": {},
   "source": [
    "##### c.  An eccentric alumnus left scholarship money for students in the third decile from the bottom of their class. Determine the range of the third decile. Would a student with a 2.8 grade point average qualify for this scholarship?"
   ]
  },
  {
   "cell_type": "markdown",
   "id": "c029448a",
   "metadata": {},
   "source": [
    "##### d.  If I have a GPA of 3.5, what percentile am I in?"
   ]
  },
  {
   "cell_type": "markdown",
   "id": "1dd75f51",
   "metadata": {},
   "source": [
    "### 3. A marketing website has an average click-through rate of 2%. One day they observe 4326 visitors and 97 click-throughs. How likely is it that this many people or more click through?"
   ]
  },
  {
   "cell_type": "code",
   "execution_count": null,
   "id": "58abfe46",
   "metadata": {},
   "outputs": [],
   "source": []
  },
  {
   "cell_type": "markdown",
   "id": "c88d8dbb",
   "metadata": {},
   "source": [
    "### 4.  You are working on some statistics homework consisting of 100 questions where all of the answers are a probability rounded to the hundreths place. Looking to save time, you put down random probabilities as the answer to each question.\n",
    "\n",
    "##### What is the probability that at least one of your first 60 answers is correct?"
   ]
  },
  {
   "cell_type": "markdown",
   "id": "a8dfbbdf",
   "metadata": {},
   "source": [
    "### 5.  The codeup staff tends to get upset when the student break area is not cleaned up. Suppose that there's a 3% chance that any one student cleans the break area when they visit it, and, on any given day, about 90% of the 3 active cohorts of 22 students visit the break area. \n",
    "##### How likely is it that the break area gets cleaned up each day? "
   ]
  },
  {
   "cell_type": "markdown",
   "id": "fcfc2018",
   "metadata": {},
   "source": [
    "\n",
    "##### How likely is it that it goes two days without getting cleaned up? All week?"
   ]
  },
  {
   "cell_type": "markdown",
   "id": "52b7d330",
   "metadata": {},
   "source": [
    "### 6.  You want to get lunch at La Panaderia, but notice that the line is usually very long at lunchtime. After several weeks of careful observation, you notice that \n",
    "#### the average number of people in line when your lunch break starts is normally distributed with a mean of 15 and standard deviation of 3. \n",
    "#### If it takes 2 minutes for each person to order, and 10 minutes from ordering to getting your food, what is the likelihood that you have at least 15 minutes left to eat your food before you have to go back to class? \n",
    "#### Assume you have one hour for lunch, and ignore travel time to and from La Panaderia."
   ]
  },
  {
   "cell_type": "markdown",
   "id": "b9a5a774",
   "metadata": {},
   "source": [
    "### 7.   Connect to the employees database and find the average salary of current employees, along with the standard deviation. For the following questions, calculate the answer based on modeling the employees salaries with a normal distribution defined by the calculated mean and standard deviation then compare this answer to the actual values present in the salaries dataset."
   ]
  },
  {
   "cell_type": "markdown",
   "id": "4d9356a4",
   "metadata": {},
   "source": [
    "##### a.  What percent of employees earn less than 60,000?"
   ]
  },
  {
   "cell_type": "markdown",
   "id": "8886af87",
   "metadata": {},
   "source": [
    "##### b.  What percent of employees earn more than 95,000?"
   ]
  },
  {
   "cell_type": "markdown",
   "id": "5f6a6a76",
   "metadata": {},
   "source": [
    "##### c.  What percent of employees earn between 65,000 and 80,000?"
   ]
  },
  {
   "cell_type": "markdown",
   "id": "44cb0a52",
   "metadata": {},
   "source": [
    "##### d.  What do the top 5% of employees make?"
   ]
  },
  {
   "cell_type": "code",
   "execution_count": null,
   "id": "92b631f0",
   "metadata": {},
   "outputs": [],
   "source": []
  }
 ],
 "metadata": {
  "kernelspec": {
   "display_name": "Python 3",
   "language": "python",
   "name": "python3"
  },
  "language_info": {
   "codemirror_mode": {
    "name": "ipython",
    "version": 3
   },
   "file_extension": ".py",
   "mimetype": "text/x-python",
   "name": "python",
   "nbconvert_exporter": "python",
   "pygments_lexer": "ipython3",
   "version": "3.8.8"
  }
 },
 "nbformat": 4,
 "nbformat_minor": 5
}
