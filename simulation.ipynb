{
 "cells": [
  {
   "cell_type": "markdown",
   "id": "30e3a4da",
   "metadata": {},
   "source": [
    "# Simulation Exercises"
   ]
  },
  {
   "cell_type": "code",
   "execution_count": 4,
   "id": "b330d4bf",
   "metadata": {},
   "outputs": [],
   "source": [
    "import numpy as np\n",
    "import pandas as pd"
   ]
  },
  {
   "cell_type": "markdown",
   "id": "37f155fd",
   "metadata": {},
   "source": [
    "## 1.  How likely is it that you roll doubles when rolling two dice?"
   ]
  },
  {
   "cell_type": "code",
   "execution_count": 11,
   "id": "aada9c75",
   "metadata": {},
   "outputs": [],
   "source": [
    "# Step One - represent data's outcome\n",
    "outcomes = [1, 2, 3, 4, 5, 6]\n",
    "#create data\n",
    "n_simulations = 1_000_000\n",
    "roll_1 = np.random.choice(outcomes, size=n_simulations)\n",
    "roll_2 = np.random.choice(outcomes, size=n_simulations)"
   ]
  },
  {
   "cell_type": "code",
   "execution_count": 20,
   "id": "8947087c",
   "metadata": {},
   "outputs": [
    {
     "data": {
      "text/plain": [
       "0.167018"
      ]
     },
     "execution_count": 20,
     "metadata": {},
     "output_type": "execute_result"
    }
   ],
   "source": [
    "#create doubles variable that represents rolling doubles\n",
    "doubles = roll_1 == roll_2\n",
    "\n",
    "# find probability of rolling doubles\n",
    "doubles.mean()"
   ]
  },
  {
   "cell_type": "markdown",
   "id": "b5c7a550",
   "metadata": {},
   "source": [
    "## 2.  a.  If you flip 8 coins, what is the probability of getting exactly 3 heads? "
   ]
  },
  {
   "cell_type": "code",
   "execution_count": 22,
   "id": "624f739e",
   "metadata": {},
   "outputs": [
    {
     "data": {
      "text/plain": [
       "(1000000, 8)"
      ]
     },
     "execution_count": 22,
     "metadata": {},
     "output_type": "execute_result"
    }
   ],
   "source": [
    "#Step One - represent data's outcome\n",
    "outcomes = [1, 0]\n",
    "\n",
    "#Step 2 create the data in a matrix of with rows = simulations and column = number of trials \n",
    "n_simulations = 1_000_000\n",
    "n_trials = 8\n",
    "\n",
    "#use sie to set up simulation and trial size\n",
    "\n",
    "flips = np.random.choice(outcomes, size=(n_simulations, n_trials))\n",
    "flips.shape #verify data set up correctly"
   ]
  },
  {
   "cell_type": "code",
   "execution_count": 18,
   "id": "6da02c4d",
   "metadata": {},
   "outputs": [
    {
     "data": {
      "text/plain": [
       "0.218411"
      ]
     },
     "execution_count": 18,
     "metadata": {},
     "output_type": "execute_result"
    }
   ],
   "source": [
    "num_of_heads = flips.sum(axis=1)\n",
    "(num_of_heads == 3).mean()"
   ]
  },
  {
   "cell_type": "markdown",
   "id": "d82c4b15",
   "metadata": {},
   "source": [
    "## 2.  b.  What is the probability of getting more than 3 heads?"
   ]
  },
  {
   "cell_type": "code",
   "execution_count": 19,
   "id": "48d2084a",
   "metadata": {},
   "outputs": [
    {
     "data": {
      "text/plain": [
       "0.636961"
      ]
     },
     "execution_count": 19,
     "metadata": {},
     "output_type": "execute_result"
    }
   ],
   "source": [
    "(num_of_heads > 3).mean()"
   ]
  },
  {
   "cell_type": "markdown",
   "id": "bc7461cf",
   "metadata": {},
   "source": [
    "##  3.  There are approximitely 3 web development cohorts for every 1 data science cohort at Codeup. \n",
    "## Assuming that Codeup randomly selects an alumni to put on a billboard, what are the odds that the two billboards I drive past both have data science students on them?"
   ]
  },
  {
   "cell_type": "code",
   "execution_count": 25,
   "id": "51039804",
   "metadata": {},
   "outputs": [
    {
     "data": {
      "text/plain": [
       "(1000000, 2)"
      ]
     },
     "execution_count": 25,
     "metadata": {},
     "output_type": "execute_result"
    }
   ],
   "source": [
    "#Step One - represent data's outcome\n",
    "outcomes = [1, 0]  # 1 = data science student\n",
    "\n",
    "#Step 2 create the data in a matrix of with rows = simulations and column = number of trials \n",
    "n_simulations = 1_000_000\n",
    "n_trials = 2\n",
    "\n",
    "#use size to set up simulation and trial size\n",
    "\n",
    "billboards = np.random.choice(outcomes, size=(n_simulations, n_trials), p=[.25, .75])\n",
    "billboards.shape #verify data set up correctly"
   ]
  },
  {
   "cell_type": "code",
   "execution_count": 26,
   "id": "c46f88df",
   "metadata": {},
   "outputs": [
    {
     "data": {
      "text/plain": [
       "0.062559"
      ]
     },
     "execution_count": 26,
     "metadata": {},
     "output_type": "execute_result"
    }
   ],
   "source": [
    "ds_billboards = billboards.sum(axis=1)\n",
    "(ds_billboards ==2).mean()"
   ]
  },
  {
   "cell_type": "markdown",
   "id": "32ef80b3",
   "metadata": {},
   "source": [
    "##  4.  Codeup students buy, on average, 3 poptart packages (+- 1.5) a day from the snack vending machine. \n",
    "## If on monday the machine is restocked with 17 poptart packages, how likely is it that I will be able to buy some poptarts on Friday afternoon?"
   ]
  },
  {
   "cell_type": "code",
   "execution_count": 27,
   "id": "db357a44",
   "metadata": {},
   "outputs": [
    {
     "data": {
      "text/plain": [
       "array([[ 2.85223544,  2.88140121,  3.4856083 ,  3.1556361 ,  2.43863629],\n",
       "       [ 4.69341629,  2.99371212,  3.07879867,  1.78268963,  3.36999371],\n",
       "       [-1.2790297 ,  4.76988003,  2.82893431,  6.28772127,  4.25266615],\n",
       "       ...,\n",
       "       [ 3.49767825,  5.80730261,  3.40735128,  4.6101172 ,  4.53010678],\n",
       "       [ 4.50306012,  5.5792207 ,  3.70070728,  1.8517077 ,  3.77948576],\n",
       "       [ 1.76985186,  5.09350088,  6.03959923,  3.64762272,  3.08524369]])"
      ]
     },
     "execution_count": 27,
     "metadata": {},
     "output_type": "execute_result"
    }
   ],
   "source": [
    "#Step One\n",
    "avg_poptarts = 3\n",
    "poptart_std = 1.5\n",
    "n_columns = 5\n",
    "n_rows = 1_000_000\n",
    "\n",
    "#Step 2 Make the data\n",
    "consumed_poptarts = np.random.normal(avg_poptarts, poptart_std, size=(n_rows, n_columns))\n",
    "consumed_poptarts"
   ]
  },
  {
   "cell_type": "code",
   "execution_count": 28,
   "id": "d67c4d0e",
   "metadata": {},
   "outputs": [
    {
     "data": {
      "text/plain": [
       "array([14.81351735, 15.91861043, 16.86017206, ..., 21.85255611,\n",
       "       19.41418156, 19.6358184 ])"
      ]
     },
     "execution_count": 28,
     "metadata": {},
     "output_type": "execute_result"
    }
   ],
   "source": [
    "consumed_poptarts.sum(axis=1)"
   ]
  },
  {
   "cell_type": "code",
   "execution_count": 30,
   "id": "66a1fee4",
   "metadata": {},
   "outputs": [
    {
     "data": {
      "text/plain": [
       "0.616726"
      ]
     },
     "execution_count": 30,
     "metadata": {},
     "output_type": "execute_result"
    }
   ],
   "source": [
    "poptarts_friday = (consumed_poptarts.sum(axis=1) <=16).mean()\n",
    "poptarts_friday"
   ]
  },
  {
   "cell_type": "markdown",
   "id": "b3b1df9a",
   "metadata": {},
   "source": [
    "## 5.  Compare Heights\n",
    "### - Men have an average height of 178 cm and standard deviation of 8cm.\n",
    "### - Women have a mean of 170, sd = 6cm.\n",
    "### Since you have means and standard deviations, you can use np.random.normal to generate observations.\n",
    "##  If a man and woman are chosen at random, P(woman taller than man)?\n",
    "\n"
   ]
  },
  {
   "cell_type": "code",
   "execution_count": 33,
   "id": "79136fee",
   "metadata": {},
   "outputs": [
    {
     "data": {
      "text/plain": [
       "0.212378"
      ]
     },
     "execution_count": 33,
     "metadata": {},
     "output_type": "execute_result"
    }
   ],
   "source": [
    "# set up variables for height and standard deviation\n",
    "women_height_avg = 170\n",
    "women_std = 6\n",
    "men_height_avg = 178\n",
    "men_std = 8\n",
    "\n",
    "#create arrays for men and women and set up an inequality to determine probability of women taller than men.\n",
    "women = np.random.normal(women_height_avg, women_std, 1_000_000)\n",
    "men = np.random.normal(men_height_avg, men_std, 1_000_000)\n",
    "women_taller = (women > men).mean()\n",
    "women_taller"
   ]
  },
  {
   "cell_type": "markdown",
   "id": "fd4238ca",
   "metadata": {},
   "source": [
    "## 6. a.  When installing anaconda on a student's computer, there's a 1 in 250 chance that the download is corrupted and the installation fails. \n",
    "## What are the odds that after having 50 students download anaconda, no one has an installation issue? \n",
    "\n"
   ]
  },
  {
   "cell_type": "code",
   "execution_count": null,
   "id": "e1713236",
   "metadata": {},
   "outputs": [],
   "source": []
  },
  {
   "cell_type": "code",
   "execution_count": 44,
   "id": "1395fc17",
   "metadata": {},
   "outputs": [
    {
     "data": {
      "text/plain": [
       "0.004"
      ]
     },
     "execution_count": 44,
     "metadata": {},
     "output_type": "execute_result"
    }
   ],
   "source": [
    "#set up variables:\n",
    "\n",
    "n_rows = 1_000_000\n",
    "\n",
    "n_columns = 50\n",
    "fail = 1\n",
    "sucess = 0\n",
    "prob_corrupt = (1/250)\n",
    "\n",
    "prob_corrupt"
   ]
  },
  {
   "cell_type": "code",
   "execution_count": 45,
   "id": "d2227d56",
   "metadata": {},
   "outputs": [
    {
     "data": {
      "text/plain": [
       "0.818426"
      ]
     },
     "execution_count": 45,
     "metadata": {},
     "output_type": "execute_result"
    }
   ],
   "source": [
    "installs = np.random.random((n_rows, n_columns))\n",
    "((installs < prob_corrupt).sum(axis=1) == 0).mean()"
   ]
  },
  {
   "cell_type": "markdown",
   "id": "21f53a1a",
   "metadata": {},
   "source": [
    "## 6. b. 100 students?"
   ]
  },
  {
   "cell_type": "code",
   "execution_count": 48,
   "id": "1002c5f2",
   "metadata": {},
   "outputs": [
    {
     "data": {
      "text/plain": [
       "0.668998"
      ]
     },
     "execution_count": 48,
     "metadata": {},
     "output_type": "execute_result"
    }
   ],
   "source": [
    "n_columns = 100\n",
    "\n",
    "installs = np.random.random((n_rows, n_columns))\n",
    "((installs < prob_corrupt).sum(axis=1) == 0).mean()"
   ]
  },
  {
   "cell_type": "markdown",
   "id": "311e0e8d",
   "metadata": {},
   "source": [
    "## 6.  c. What is the probability that we observe an installation issue within the first 150 students that download anaconda?"
   ]
  },
  {
   "cell_type": "code",
   "execution_count": 50,
   "id": "20b9bfe9",
   "metadata": {},
   "outputs": [
    {
     "data": {
      "text/plain": [
       "0.452695"
      ]
     },
     "execution_count": 50,
     "metadata": {},
     "output_type": "execute_result"
    }
   ],
   "source": [
    "n_columns = 150\n",
    "\n",
    "installs = np.random.random((n_rows, n_columns))\n",
    "((installs < prob_corrupt).sum(axis=1) > 0).mean()"
   ]
  },
  {
   "cell_type": "markdown",
   "id": "8dacb9bc",
   "metadata": {},
   "source": [
    "## 6. d. How likely is it that 450 students all download anaconda without an issue?"
   ]
  },
  {
   "cell_type": "code",
   "execution_count": 51,
   "id": "ab36bdff",
   "metadata": {},
   "outputs": [
    {
     "data": {
      "text/plain": [
       "0.164218"
      ]
     },
     "execution_count": 51,
     "metadata": {},
     "output_type": "execute_result"
    }
   ],
   "source": [
    "n_columns = 450\n",
    "installs = np.random.random((n_rows, n_columns))\n",
    "((installs < prob_corrupt).sum(axis=1) == 0).mean()"
   ]
  },
  {
   "cell_type": "markdown",
   "id": "397414fa",
   "metadata": {},
   "source": [
    "## 7.  There's a 70% chance on any given day that there will be at least one food truck at Travis Park. However, you haven't seen a food truck there in 3 days. How unlikely is this?"
   ]
  },
  {
   "cell_type": "code",
   "execution_count": 6,
   "id": "93d17722",
   "metadata": {},
   "outputs": [],
   "source": [
    "n_rows = 100_000_000\n",
    "n_cols = 3"
   ]
  },
  {
   "cell_type": "code",
   "execution_count": 8,
   "id": "cd23d80f",
   "metadata": {},
   "outputs": [
    {
     "ename": "SyntaxError",
     "evalue": "cannot assign to function call (<ipython-input-8-2adab26f41ab>, line 1)",
     "output_type": "error",
     "traceback": [
      "\u001b[0;36m  File \u001b[0;32m\"<ipython-input-8-2adab26f41ab>\"\u001b[0;36m, line \u001b[0;32m1\u001b[0m\n\u001b[0;31m    food_truck_yes = np.random.choice([True, False]), p=[.7,.3].reshape(n_rows, n_cols)\u001b[0m\n\u001b[0m                     ^\u001b[0m\n\u001b[0;31mSyntaxError\u001b[0m\u001b[0;31m:\u001b[0m cannot assign to function call\n"
     ]
    }
   ],
   "source": [
    "food_truck_yes = np.random.choice([True, False]), p=[.7,.3].reshape(n_rows, n_cols)"
   ]
  },
  {
   "cell_type": "markdown",
   "id": "e7d4c78b",
   "metadata": {},
   "source": [
    "## 7. b.  How likely is it that a food truck will show up sometime this week?"
   ]
  },
  {
   "cell_type": "code",
   "execution_count": null,
   "id": "c2553041",
   "metadata": {},
   "outputs": [],
   "source": []
  },
  {
   "cell_type": "markdown",
   "id": "bec5d1af",
   "metadata": {},
   "source": [
    "## 8.  If 23 people are in the same room, what are the odds that two of them share a birthday?"
   ]
  },
  {
   "cell_type": "code",
   "execution_count": null,
   "id": "54e3dbbf",
   "metadata": {},
   "outputs": [],
   "source": []
  },
  {
   "cell_type": "markdown",
   "id": "5c949a82",
   "metadata": {},
   "source": [
    "## 8. b. What if it's 20 people?"
   ]
  },
  {
   "cell_type": "code",
   "execution_count": null,
   "id": "970929db",
   "metadata": {},
   "outputs": [],
   "source": []
  },
  {
   "cell_type": "markdown",
   "id": "26ed0771",
   "metadata": {},
   "source": [
    "## 8. c. What if it is 40 people?"
   ]
  },
  {
   "cell_type": "code",
   "execution_count": null,
   "id": "3d5b64fc",
   "metadata": {},
   "outputs": [],
   "source": []
  }
 ],
 "metadata": {
  "kernelspec": {
   "display_name": "Python 3",
   "language": "python",
   "name": "python3"
  },
  "language_info": {
   "codemirror_mode": {
    "name": "ipython",
    "version": 3
   },
   "file_extension": ".py",
   "mimetype": "text/x-python",
   "name": "python",
   "nbconvert_exporter": "python",
   "pygments_lexer": "ipython3",
   "version": "3.8.8"
  }
 },
 "nbformat": 4,
 "nbformat_minor": 5
}
