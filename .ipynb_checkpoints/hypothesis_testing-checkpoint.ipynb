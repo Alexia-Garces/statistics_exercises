{
 "cells": [
  {
   "cell_type": "markdown",
   "id": "8aa3f773",
   "metadata": {},
   "source": [
    "# *Hypthesis Testing Overview Exercises*\n",
    "### For each of the following questions, formulate a null and alternative hypothesis (be as specific as you can be), then give an example of what a true positive, true negative, type I and type II errors would look like. Note that some of the questions are intentionally phrased in a vague way. It is your job to reword these as more precise questions that could be tested."
   ]
  },
  {
   "cell_type": "markdown",
   "id": "7b9353cd",
   "metadata": {},
   "source": [
    "### Has the network latency gone up since we switched internet service providers?"
   ]
  },
  {
   "cell_type": "markdown",
   "id": "a046a52a",
   "metadata": {},
   "source": [
    "1.  Do those who churn spend a different amount than those who do not churn?\n",
    "\n",
    "$H_{0}$: avg spend for those who churn == avg spend for those who don't.\n",
    "\n",
    "$H_{a}$ : avg spend for thos who churn != avg spend for those who don't."
   ]
  },
  {
   "cell_type": "markdown",
   "id": "af9d6bc5",
   "metadata": {},
   "source": [
    "### Is the website redesign any good?`"
   ]
  },
  {
   "cell_type": "markdown",
   "id": "8c3f961b",
   "metadata": {},
   "source": [
    "1.  Do those who churn spend a different amount than those who do not churn?\n",
    "\n",
    "$H_{0}$: avg spend for those who churn == avg spend for those who don't.\n",
    "\n",
    "$H_{a}$ : avg spend for thos who churn != avg spend for those who don't."
   ]
  },
  {
   "cell_type": "code",
   "execution_count": null,
   "id": "719f9936",
   "metadata": {},
   "outputs": [],
   "source": [
    " "
   ]
  },
  {
   "cell_type": "markdown",
   "id": "ca8c7b65",
   "metadata": {},
   "source": [
    "1.  Do those who churn spend a different amount than those who do not churn?\n",
    "\n",
    "$H_{0}$: avg spend for those who churn == avg spend for those who don't.\n",
    "\n",
    "$H_{a}$ : avg spend for thos who churn != avg spend for those who don't."
   ]
  }
 ],
 "metadata": {
  "kernelspec": {
   "display_name": "Python 3",
   "language": "python",
   "name": "python3"
  },
  "language_info": {
   "codemirror_mode": {
    "name": "ipython",
    "version": 3
   },
   "file_extension": ".py",
   "mimetype": "text/x-python",
   "name": "python",
   "nbconvert_exporter": "python",
   "pygments_lexer": "ipython3",
   "version": "3.8.8"
  }
 },
 "nbformat": 4,
 "nbformat_minor": 5
}
