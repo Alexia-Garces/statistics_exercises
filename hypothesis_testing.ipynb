{
 "cells": [
  {
   "cell_type": "code",
   "execution_count": 8,
   "id": "2fd50fea",
   "metadata": {},
   "outputs": [],
   "source": [
    "from math import sqrt\n",
    "import pandas as pd\n",
    "import matplotlib.pyplot as plt\n",
    "import scipy.stats as stats\n",
    "import seaborn as sns"
   ]
  },
  {
   "cell_type": "markdown",
   "id": "8aa3f773",
   "metadata": {},
   "source": [
    "# *Hypthesis Testing Overview Exercises*\n",
    "### For each of the following questions, formulate a null and alternative hypothesis (be as specific as you can be), then give an example of what a true positive, true negative, type I and type II errors would look like. Note that some of the questions are intentionally phrased in a vague way. It is your job to reword these as more precise questions that could be tested."
   ]
  },
  {
   "cell_type": "markdown",
   "id": "7b9353cd",
   "metadata": {},
   "source": [
    "### Has the network latency gone up since we switched internet service providers?"
   ]
  },
  {
   "cell_type": "markdown",
   "id": "a046a52a",
   "metadata": {},
   "source": [
    "1.  Do those who churn spend a different amount than those who do not churn?\n",
    "\n",
    "$H_{0}$: avg spend for those who churn == avg spend for those who don't.\n",
    "\n",
    "$H_{a}$ : avg spend for thos who churn != avg spend for those who don't."
   ]
  },
  {
   "cell_type": "markdown",
   "id": "af9d6bc5",
   "metadata": {},
   "source": [
    "### Is the website redesign any good?`"
   ]
  },
  {
   "cell_type": "markdown",
   "id": "8c3f961b",
   "metadata": {},
   "source": [
    "1.  Do those who churn spend a different amount than those who do not churn?\n",
    "\n",
    "$H_{0}$: avg spend for those who churn == avg spend for those who don't.\n",
    "\n",
    "$H_{a}$ : avg spend for thos who churn != avg spend for those who don't."
   ]
  },
  {
   "cell_type": "code",
   "execution_count": null,
   "id": "719f9936",
   "metadata": {},
   "outputs": [],
   "source": [
    " "
   ]
  },
  {
   "cell_type": "markdown",
   "id": "ca8c7b65",
   "metadata": {},
   "source": [
    "1.  Do those who churn spend a different amount than those who do not churn?\n",
    "\n",
    "$H_{0}$: avg spend for those who churn == avg spend for those who don't.\n",
    "\n",
    "$H_{a}$ : avg spend for thos who churn != avg spend for those who don't."
   ]
  },
  {
   "cell_type": "code",
   "execution_count": null,
   "id": "1e91cc09",
   "metadata": {},
   "outputs": [],
   "source": []
  },
  {
   "cell_type": "markdown",
   "id": "e92e961c",
   "metadata": {},
   "source": [
    "# Hypothesis Testing Exercises "
   ]
  },
  {
   "cell_type": "markdown",
   "id": "abe102f9",
   "metadata": {},
   "source": [
    "### 1.  Ace Realty wants to determine whether the average time it takes to sell homes is different for its two offices. A sample of 40 sales from office #1 revealed a mean of 90 days and a standard deviation of 15 days. A sample of 50 sales from office #2 revealed a mean of 100 days and a standard deviation of 20 days. Use a .05 level of significance."
   ]
  },
  {
   "cell_type": "code",
   "execution_count": 31,
   "id": "7a578d88",
   "metadata": {},
   "outputs": [
    {
     "data": {
      "text/plain": [
       "-2.6252287036468456"
      ]
     },
     "execution_count": 31,
     "metadata": {},
     "output_type": "execute_result"
    }
   ],
   "source": [
    "xbar1 = 90\n",
    "xbar2 = 100\n",
    "\n",
    "n1 = 40\n",
    "n2 = 50\n",
    "\n",
    "s1 = 15\n",
    "s2 = 20\n",
    "\n",
    "degf = n1 + n2 - 2\n",
    "\n",
    "s_p = sqrt(((n1 - 1) * s1**2 + (n2 - 1) * s2**2) / (n1 + n2 - 2))\n",
    "s_p\n",
    "\n",
    "standard_error = se = sqrt(s1**2 / n1 + s2**2 / n2)\n",
    "\n",
    "t = (xbar1 - xbar2) / (s_p * sqrt(1 / n1 + 1 / n2))\n",
    "t"
   ]
  },
  {
   "cell_type": "code",
   "execution_count": 32,
   "id": "46ae042b",
   "metadata": {},
   "outputs": [
    {
     "data": {
      "text/plain": [
       "0.01020985244923939"
      ]
     },
     "execution_count": 32,
     "metadata": {},
     "output_type": "execute_result"
    }
   ],
   "source": [
    "#Calculate p value for calculated t-statistic\n",
    "p = stats.t(degf).cdf(t) * 2\n",
    "p"
   ]
  },
  {
   "cell_type": "code",
   "execution_count": 33,
   "id": "d00410eb",
   "metadata": {},
   "outputs": [
    {
     "data": {
      "text/plain": [
       "(2.6252287036468456, 0.01020985244923939)"
      ]
     },
     "execution_count": 33,
     "metadata": {},
     "output_type": "execute_result"
    }
   ],
   "source": [
    "alpha = 0.05\n",
    "t, p = stats.ttest_ind_from_stats(100, 20, 50, 90, 15, 40)\n",
    "t,p"
   ]
  },
  {
   "cell_type": "code",
   "execution_count": 35,
   "id": "07f5972c",
   "metadata": {},
   "outputs": [
    {
     "name": "stdout",
     "output_type": "stream",
     "text": [
      "\n",
      "Because the p-value (0.01020985244923939) is less than alpha value (0.05),we reject the null hypothesis\n"
     ]
    }
   ],
   "source": [
    "print(f'''\n",
    "Because the p-value ({p}) is less than alpha value ({alpha}),we reject the null hypothesis''')"
   ]
  },
  {
   "cell_type": "code",
   "execution_count": null,
   "id": "c83a02f0",
   "metadata": {},
   "outputs": [],
   "source": []
  }
 ],
 "metadata": {
  "kernelspec": {
   "display_name": "Python 3",
   "language": "python",
   "name": "python3"
  },
  "language_info": {
   "codemirror_mode": {
    "name": "ipython",
    "version": 3
   },
   "file_extension": ".py",
   "mimetype": "text/x-python",
   "name": "python",
   "nbconvert_exporter": "python",
   "pygments_lexer": "ipython3",
   "version": "3.8.8"
  }
 },
 "nbformat": 4,
 "nbformat_minor": 5
}
